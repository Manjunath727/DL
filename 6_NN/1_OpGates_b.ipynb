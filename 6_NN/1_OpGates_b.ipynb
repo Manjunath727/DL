{
  "nbformat": 4,
  "nbformat_minor": 0,
  "metadata": {
    "colab": {
      "name": "Untitled21.ipynb",
      "version": "0.3.2",
      "provenance": [],
      "include_colab_link": true
    },
    "kernelspec": {
      "name": "python3",
      "display_name": "Python 3"
    }
  },
  "cells": [
    {
      "cell_type": "markdown",
      "metadata": {
        "id": "view-in-github",
        "colab_type": "text"
      },
      "source": [
        "<a href=\"https://colab.research.google.com/github/Manjunath727/DL/blob/master/6_NN/1_OpGates_b.ipynb\" target=\"_parent\"><img src=\"https://colab.research.google.com/assets/colab-badge.svg\" alt=\"Open In Colab\"/></a>"
      ]
    },
    {
      "metadata": {
        "id": "-UtjhRaYPtJD",
        "colab_type": "code",
        "colab": {}
      },
      "cell_type": "code",
      "source": [
        "# Neural Nets\n",
        "# 6.1_b : two-nested operations. f(x) = a.x + b\n",
        "\n",
        "import tensorflow as tf\n",
        "from tensorflow.python.framework import ops\n",
        "ops.reset_default_graph()\n",
        "sess = tf.Session()\n",
        "\n",
        "# initialize two model variables\n",
        "a = tf.Variable(tf.constant(1.))\n",
        "b = tf.Variable(tf.constant(1.))\n",
        "x_val = 5.\n",
        "x_data = tf.placeholder(dtype=tf.float32)\n",
        "\n",
        "two_gate = tf.add(tf.multiply(a, x_data), b)\n",
        "\n",
        "loss = tf.square(tf.subtract(two_gate, 50))\n",
        "\n",
        "my_opt = tf.train.GradientDescentOptimizer(0.01)\n",
        "train_step = my_opt.minimize(loss)\n",
        "\n",
        "init = tf.global_variables_initializer()\n",
        "sess.run(init)\n",
        "\n",
        "print('\\n Optimizing Two gate output to 50.')\n",
        "for i in range(10):\n",
        "  # Run the train step\n",
        "  sess.run(train_step, feed_dict={x_data: x_val})\n",
        "  # Get the a and b values\n",
        "  a_val, b_val = (sess.run(a), sess.run(b))\n",
        "  # Run the two-gate graph output\n",
        "  two_gate_output = sess.run(two_gate, feed_dict={x_data: x_val})\n",
        "  print(str(a_val) + ' * ' + str(x_val) + ' + ' + str(b_val) + ' = ' + str(two_gate_output))\n",
        "  "
      ],
      "execution_count": 0,
      "outputs": []
    },
    {
      "metadata": {
        "id": "y18u--vihHKc",
        "colab_type": "code",
        "colab": {}
      },
      "cell_type": "code",
      "source": [
        ""
      ],
      "execution_count": 0,
      "outputs": []
    }
  ]
}