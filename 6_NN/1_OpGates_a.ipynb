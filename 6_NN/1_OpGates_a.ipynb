{
  "nbformat": 4,
  "nbformat_minor": 0,
  "metadata": {
    "colab": {
      "name": "Untitled21.ipynb",
      "version": "0.3.2",
      "provenance": [],
      "include_colab_link": true
    },
    "kernelspec": {
      "name": "python3",
      "display_name": "Python 3"
    }
  },
  "cells": [
    {
      "cell_type": "markdown",
      "metadata": {
        "id": "view-in-github",
        "colab_type": "text"
      },
      "source": [
        "<a href=\"https://colab.research.google.com/github/Manjunath727/DL/blob/master/6_NN/1_OpGates_a.ipynb\" target=\"_parent\"><img src=\"https://colab.research.google.com/assets/colab-badge.svg\" alt=\"Open In Colab\"/></a>"
      ]
    },
    {
      "metadata": {
        "id": "-UtjhRaYPtJD",
        "colab_type": "code",
        "colab": {
          "base_uri": "https://localhost:8080/",
          "height": 217
        },
        "outputId": "dcaeb433-f15f-4a89-e45f-93ed61653616"
      },
      "cell_type": "code",
      "source": [
        "# Neural Nets\n",
        "# 6.1 Implementing Operational Gates\n",
        "\n",
        "import tensorflow as tf\n",
        "sess = tf.Session()\n",
        "\n",
        "# Declare our model variable, inp data & placeholder.\n",
        "a = tf.Variable(tf.constant(4.))\n",
        "x_val = 5\n",
        "x_data = tf.placeholder(dtype=tf.float32)\n",
        "\n",
        "# Add operation to our computational graph\n",
        "multiplication = tf.multiply(a, x_data)\n",
        "\n",
        "# Declare loss function\n",
        "loss = tf.square(tf.subtract(multiplication, 50.))\n",
        "\n",
        "# Initialize model, declare optimizing algorithm as standard gradient descent\n",
        "init = tf.global_variables_initializer()\n",
        "sess.run(init)\n",
        "my_opt = tf.train.GradientDescentOptimizer(0.01)\n",
        "train_step = my_opt.minimize(loss)\n",
        "\n",
        "# Optimize the model\n",
        "print('Optimizing a Multiplication gate output to 50')\n",
        "for i in range(10):\n",
        "  sess.run(train_step, feed_dict={x_data: x_val})\n",
        "  a_val = sess.run(a)\n",
        "  mult_output = sess.run(multiplication, feed_dict={x_data: x_val})\n",
        "  print(str(a_val) + ' * ' + str(x_val) + ' = ' + str(mult_output))\n"
      ],
      "execution_count": 3,
      "outputs": [
        {
          "output_type": "stream",
          "text": [
            "Optimizing a Multiplication gate output to 50\n",
            "7.0 * 5 = 35.0\n",
            "8.5 * 5 = 42.5\n",
            "9.25 * 5 = 46.25\n",
            "9.625 * 5 = 48.125\n",
            "9.8125 * 5 = 49.0625\n",
            "9.90625 * 5 = 49.53125\n",
            "9.953125 * 5 = 49.765625\n",
            "9.9765625 * 5 = 49.882812\n",
            "9.988281 * 5 = 49.941406\n",
            "9.994141 * 5 = 49.970703\n"
          ],
          "name": "stdout"
        }
      ]
    }
  ]
}