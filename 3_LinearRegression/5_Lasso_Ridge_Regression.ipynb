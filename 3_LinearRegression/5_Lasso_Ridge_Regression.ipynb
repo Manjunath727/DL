{
  "nbformat": 4,
  "nbformat_minor": 0,
  "metadata": {
    "colab": {
      "name": "Untitled15.ipynb",
      "version": "0.3.2",
      "provenance": [],
      "include_colab_link": true
    },
    "kernelspec": {
      "name": "python3",
      "display_name": "Python 3"
    }
  },
  "cells": [
    {
      "cell_type": "markdown",
      "metadata": {
        "id": "view-in-github",
        "colab_type": "text"
      },
      "source": [
        "<a href=\"https://colab.research.google.com/github/Manjunath727/DL/blob/master/3_LinearRegression/5_Lasso_Ridge_Regression.ipynb\" target=\"_parent\"><img src=\"https://colab.research.google.com/assets/colab-badge.svg\" alt=\"Open In Colab\"/></a>"
      ]
    },
    {
      "metadata": {
        "id": "Nap_BVAcDLWb",
        "colab_type": "code",
        "outputId": "8a1d250f-74dc-40c1-b3ba-7a8894b1fa2e",
        "colab": {
          "base_uri": "https://localhost:8080/",
          "height": 357
        }
      },
      "cell_type": "code",
      "source": [
        "# Lasso and Ridge Regression Methods\n",
        "# Limit influence of coefficents - Regularization Method\n",
        "\n",
        "# Lasso Regression - add a term that greatly increases our loss function\n",
        "#                    if the slope, A gets above a certain value\n",
        "# Ridge regression - add a term to the L2 norm - Scaled L2 norm of the\n",
        "#                    slope coefficient\n",
        "\n",
        "# Load libraries, start session, load data, create placeholders, model_output etc\n",
        "import matplotlib.pyplot as plt\n",
        "import numpy as np\n",
        "import tensorflow as tf\n",
        "from sklearn import datasets\n",
        "from tensorflow.python.framework import ops\n",
        "ops.reset_default_graph()\n",
        "sess = tf.Session()\n",
        "iris = datasets.load_iris()\n",
        "x_vals = np.array([x[3] for x in iris.data])\n",
        "y_vals = np.array([y[0] for y in iris.data])\n",
        "batch_size = 50\n",
        "learning_rate = 0.001\n",
        "x_data = tf.placeholder(shape=[None,1], dtype=tf.float32)\n",
        "y_target = tf.placeholder(shape=[None,1], dtype=tf.float32)\n",
        "A = tf.Variable(tf.random_normal(shape=[1,1]))\n",
        "b = tf.Variable(tf.random_normal(shape=[1,1]))\n",
        "model_output = tf.add(tf.matmul(x_data, A), b)\n",
        "\n",
        "# Add Loss functions - modified continuous heavyside function\n",
        "# Cutoff Lasso Regression at 0.9\n",
        "lasso_param = tf.constant(0.9)\n",
        "heavyside_step = tf.truediv(1., tf.add(1., tf.exp(tf.multiply(-100.,tf.subtract(A, lasso_param)))))\n",
        "regularization_param = tf.multiply(heavyside_step, 99.)\n",
        "loss = tf.add(tf.reduce_mean(tf.square(y_target - model_output)), regularization_param)\n",
        "\n",
        "# Add Ridge loss functions\n",
        "ridge_param = tf.constant(1.)\n",
        "ridge_loss = tf.reduce_mean(tf.square(A))\n",
        "loss_r = tf.expand_dims(tf.add(tf.reduce_mean(tf.square(y_target - model_output)), tf.multiply(ridge_param, ridge_loss)), 0)\n",
        "\n",
        "# Initialize our variables and declare our optimizer\n",
        "init = tf.global_variables_initializer()\n",
        "sess.run(init)\n",
        "my_opt = tf.train.GradientDescentOptimizer(learning_rate)\n",
        "train_step = my_opt.minimize(loss)\n",
        "train_step_r = my_opt.minimize(loss_r)\n",
        "\n",
        "loss_vec = []\n",
        "loss_vec_r = []\n",
        "for i in range(1500):\n",
        "  rand_index = np.random.choice(len(x_vals), size=batch_size)\n",
        "  rand_x = np.transpose([x_vals[rand_index]])\n",
        "  rand_y = np.transpose([y_vals[rand_index]])\n",
        "  \n",
        "  #Lasso loss\n",
        "  sess.run(train_step, feed_dict={x_data: rand_x, y_target: rand_y})\n",
        "  temp_loss = sess.run(loss, feed_dict={x_data: rand_x, y_target: rand_y})\n",
        "  loss_vec.append(temp_loss[0])\n",
        "  if (i+1)%300==0:\n",
        "    print('Step # ' + str(i+1) + ' A = ' + str(sess.run(A)) + ' b = ' + str(sess.run(b)))\n",
        "    print('Loss = ' + str(temp_loss))\n",
        "\n",
        "  # Ridge loss\n",
        "  sess.run(train_step_r, feed_dict={x_data: rand_x, y_target: rand_y})\n",
        "  temp_loss_r = sess.run(loss_r, feed_dict={x_data: rand_x, y_target: rand_y})\n",
        "  loss_vec_r.append(temp_loss_r[0])\n",
        "  if (i+1)%300==0:\n",
        "    print('Step # ' + str(i+1) + ' A = ' + str(sess.run(A)) + ' b = ' + str(sess.run(b)))\n",
        "    print('Loss = ' + str(temp_loss_r))\n",
        "\n"
      ],
      "execution_count": 3,
      "outputs": [
        {
          "output_type": "stream",
          "text": [
            "Step # 300 A = [[0.82195204]] b = [[3.6373932]]\n",
            "Loss = [[1.8080775]]\n",
            "Step # 300 A = [[0.823087]] b = [[3.6399136]]\n",
            "Loss = [2.4357054]\n",
            "Step # 600 A = [[0.7997719]] b = [[4.499955]]\n",
            "Loss = [[0.34694332]]\n",
            "Step # 600 A = [[0.7990807]] b = [[4.500651]]\n",
            "Loss = [0.9812243]\n",
            "Step # 900 A = [[0.7399016]] b = [[4.7952905]]\n",
            "Loss = [[0.39125678]]\n",
            "Step # 900 A = [[0.7392046]] b = [[4.7956967]]\n",
            "Loss = [0.93805027]\n",
            "Step # 1200 A = [[0.65403724]] b = [[4.9568686]]\n",
            "Loss = [[0.18671302]]\n",
            "Step # 1200 A = [[0.6527876]] b = [[4.9568725]]\n",
            "Loss = [0.61292046]\n",
            "Step # 1500 A = [[0.59573317]] b = [[5.061445]]\n",
            "Loss = [[0.3215749]]\n",
            "Step # 1500 A = [[0.59539056]] b = [[5.0616927]]\n",
            "Loss = [0.67629445]\n"
          ],
          "name": "stdout"
        }
      ]
    }
  ]
}