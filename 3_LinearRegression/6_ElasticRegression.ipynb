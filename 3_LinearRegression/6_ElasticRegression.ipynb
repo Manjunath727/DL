{
  "nbformat": 4,
  "nbformat_minor": 0,
  "metadata": {
    "colab": {
      "name": "Untitled16.ipynb",
      "version": "0.3.2",
      "provenance": [],
      "include_colab_link": true
    },
    "kernelspec": {
      "name": "python3",
      "display_name": "Python 3"
    }
  },
  "cells": [
    {
      "cell_type": "markdown",
      "metadata": {
        "id": "view-in-github",
        "colab_type": "text"
      },
      "source": [
        "<a href=\"https://colab.research.google.com/github/Manjunath727/DL/blob/master/3_LinearRegression/7_ElasticRegression.ipynb\" target=\"_parent\"><img src=\"https://colab.research.google.com/assets/colab-badge.svg\" alt=\"Open In Colab\"/></a>"
      ]
    },
    {
      "metadata": {
        "id": "O4L5jjCPKcVJ",
        "colab_type": "code",
        "colab": {
          "base_uri": "https://localhost:8080/",
          "height": 648
        },
        "outputId": "e6a75c2a-5a1f-4e6b-aa74-1a8cc9bf0ed3"
      },
      "cell_type": "code",
      "source": [
        "# Elastic Net Regression\n",
        "# Combination of Lasso + Ridge regression with L1 and L2 regularization\n",
        "\n",
        "# Load necessary libraries and intialize graphs\n",
        "import matplotlib.pyplot as plt\n",
        "import numpy as np\n",
        "import tensorflow as tf\n",
        "from sklearn import datasets\n",
        "sess = tf.Session()\n",
        "\n",
        "# load data. each element of x_data will have 3 values\n",
        "iris = datasets.load_iris()\n",
        "x_vals = np.array([[x[1], x[2], x[3]] for x in iris.data])\n",
        "y_vals = np.array([y[0] for y in iris.data])\n",
        "\n",
        "# Declare batch_size, placeholders, variables and model_outpus\n",
        "batch_size = 50\n",
        "learning_rate = 0.001\n",
        "x_data = tf.placeholder(shape=[None, 3], dtype=tf.float32)\n",
        "y_target = tf.placeholder(shape=[None, 1], dtype=tf.float32)\n",
        "A = tf.Variable(tf.random_normal(shape=[3,1]))\n",
        "b = tf.Variable(tf.random_normal(shape=[1,1]))\n",
        "model_output = tf.add(tf.matmul(x_data, A), b)\n",
        "\n",
        "# Declare L1 and L2 norms of partial slopes. Add them to loss function\n",
        "elastic_param1 = tf.constant(1.)\n",
        "elastic_param2 = tf.constant(1.)\n",
        "l1_a_loss = tf.reduce_mean(tf.abs(A))\n",
        "l2_a_loss = tf.reduce_mean(tf.square(A))\n",
        "e1_term = tf.multiply(elastic_param1, l1_a_loss)\n",
        "e2_term = tf.multiply(elastic_param2, l2_a_loss)\n",
        "loss = tf.expand_dims(tf.add(tf.add(tf.reduce_mean(tf.square(y_target - model_output)), e1_term), e2_term), 0)\n",
        "\n",
        "#initializer, declare optimizer, adn run training loop\n",
        "init = tf.global_variables_initializer()\n",
        "sess.run(init)\n",
        "my_opt = tf.train.GradientDescentOptimizer(learning_rate)\n",
        "train_step = my_opt.minimize(loss)\n",
        "loss_vec=[]\n",
        "for i in range(1000):\n",
        "  rand_index = np.random.choice(len(x_vals), size=batch_size)\n",
        "  rand_x = x_vals[rand_index]\n",
        "  rand_y = np.transpose([y_vals[rand_index]])\n",
        "  sess.run(train_step, feed_dict={x_data: rand_x, y_target: rand_y})\n",
        "  temp_loss = sess.run(loss, feed_dict = {x_data: rand_x, y_target: rand_y})\n",
        "  loss_vec.append(temp_loss[0])\n",
        "  if (i+1)%250 == 0 :\n",
        "    print('Step #' + str(i+1) + ' A = ' + str(sess.run(A)) + ' b = ' + str(sess.run(b)))\n",
        "    print(\"Loss = \" + str(temp_loss))\n",
        "\n",
        "    \n",
        "#  Plot\n",
        "plt.plot(loss_vec, 'k-')\n",
        "plt.title('Loss per Generation')\n",
        "plt.xlabel('Generation')\n",
        "plt.ylabel('Loss')\n",
        "plt.show()\n"
      ],
      "execution_count": 5,
      "outputs": [
        {
          "output_type": "stream",
          "text": [
            "Step #250 A = [[-0.04200628]\n",
            " [ 0.65301186]\n",
            " [ 1.4042546 ]] b = [[1.3802404]]\n",
            "Loss = [4.4377637]\n",
            "Step #500 A = [[0.4864507 ]\n",
            " [0.36107838]\n",
            " [0.9743546 ]] b = [[1.5602808]]\n",
            "Loss = [1.5238596]\n",
            "Step #750 A = [[0.65230554]\n",
            " [0.3062206 ]\n",
            " [0.7187788 ]] b = [[1.6652322]]\n",
            "Loss = [1.1375144]\n",
            "Step #1000 A = [[0.6941627 ]\n",
            " [0.3200184 ]\n",
            " [0.54077965]] b = [[1.7415982]]\n",
            "Loss = [0.9732612]\n"
          ],
          "name": "stdout"
        },
        {
          "output_type": "display_data",
          "data": {
            "image/png": "[encoded data removed]",
            "text/plain": [
              "<Figure size 576x396 with 1 Axes>"
            ]
          },
          "metadata": {
            "tags": []
          }
        }
      ]
    }
  ]
}
